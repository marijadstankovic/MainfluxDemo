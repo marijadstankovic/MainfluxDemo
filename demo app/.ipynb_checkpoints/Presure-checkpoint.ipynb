{
 "cells": [
  {
   "cell_type": "code",
   "execution_count": 1,
   "metadata": {},
   "outputs": [],
   "source": [
    "import requests\n",
    "import json\n",
    "\n",
    "user = {'email':'korisnik@email.com', \n",
    "        'password':'korisnik'}\n",
    "tokens_url = \"http://localhost/tokens\"\n",
    "\n",
    "r = requests.post(url = tokens_url, json = user)\n",
    "token = json.loads(r.text)[\"token\"]\n",
    "\n",
    "thing = json.loads(requests.get(\"http://localhost/things?name=presure\",\n",
    "            headers={\"Authorization\":token}).text)[\"things\"][0]\n",
    "channel = json.loads(requests.get(\"http://localhost/things/\"+thing[\"id\"]+\"/channels\",\n",
    "            headers={\"Authorization\":token}).text)['channels'][0]"
   ]
  },
  {
   "cell_type": "code",
   "execution_count": 2,
   "metadata": {},
   "outputs": [
    {
     "data": {
      "text/plain": [
       "0"
      ]
     },
     "execution_count": 2,
     "metadata": {},
     "output_type": "execute_result"
    }
   ],
   "source": [
    "import paho.mqtt.client as mqtt\n",
    "import random\n",
    "from datetime import datetime\n",
    "\n",
    "def on_connect(client, userdata, flags, rc):\n",
    "    print(\"Connected with result code \"+str(rc))\n",
    "\n",
    "def on_disconnect(client, userdata, rc):\n",
    "    client.reconnect()\n",
    "    \n",
    "def on_publish(client, userdata, mid):\n",
    "    print(\"published\")\n",
    "    \n",
    "def send_msg():\n",
    "    message = json.dumps(\n",
    "        [{\"value\":random.randrange(900,1200),\n",
    "          \"time\":datetime.now().isoformat()}])\n",
    "    \n",
    "    print(message)\n",
    "    client.publish(\n",
    "    \"channels/\"+channel['id']+\"/messages/presure\",\n",
    "    payload=message)\n",
    "    \n",
    "    \n",
    "client = mqtt.Client()\n",
    "client.on_connect = on_connect\n",
    "\n",
    "client.username_pw_set(thing['id'], thing['key'])\n",
    "client.connect(\"localhost\")"
   ]
  },
  {
   "cell_type": "code",
   "execution_count": null,
   "metadata": {},
   "outputs": [
    {
     "name": "stdout",
     "output_type": "stream",
     "text": [
      "[{\"value\": -39, \"time\": \"2020-05-05T18:18:48.507171\"}]\n",
      "[{\"value\": 21, \"time\": \"2020-05-05T18:18:53.510046\"}]\n"
     ]
    }
   ],
   "source": [
    "import schedule\n",
    "import time\n",
    "\n",
    "schedule.every(5).seconds.do(send_msg)\n",
    "while(1):\n",
    "    schedule.run_pending()\n",
    "    time.sleep(1)"
   ]
  },
  {
   "cell_type": "code",
   "execution_count": null,
   "metadata": {},
   "outputs": [],
   "source": []
  }
 ],
 "metadata": {
  "kernelspec": {
   "display_name": "Python 3",
   "language": "python",
   "name": "python3"
  },
  "language_info": {
   "codemirror_mode": {
    "name": "ipython",
    "version": 3
   },
   "file_extension": ".py",
   "mimetype": "text/x-python",
   "name": "python",
   "nbconvert_exporter": "python",
   "pygments_lexer": "ipython3",
   "version": "3.7.4"
  }
 },
 "nbformat": 4,
 "nbformat_minor": 2
}
